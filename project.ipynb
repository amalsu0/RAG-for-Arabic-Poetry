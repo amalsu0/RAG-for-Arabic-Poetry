{
 "cells": [
  {
   "cell_type": "markdown",
   "id": "124e5672",
   "metadata": {},
   "source": [
    "# Custom Chatbot Project"
   ]
  },
  {
   "cell_type": "markdown",
   "id": "b62d34e2",
   "metadata": {},
   "source": [
    "\n",
    "The Arabic Poetry Dataset is an exceptional resource for exploring the richness and diversity of Arabic poetry, spanning over 70,000 poems by more than 750 poets from the 6th to the 20th century. It provides invaluable insights into the evolution of themes, styles, and poetic structures across different eras, enabling users to delve into the beauty of Arabic literary heritage. \n",
    "\n",
    "This dataset is particularly useful in scenarios where users seek accurate responses about poet names, their eras, and poetic meters—a challenge for many discovering Arabic poetry. For instance, it can be leveraged to build AI-powered tools for education, cultural preservation, or creative exploration, offering precise and contextually relevant information to poetry enthusiasts, researchers, and students.\n"
   ]
  },
  {
   "cell_type": "markdown",
   "id": "a63d4c5f",
   "metadata": {},
   "source": [
    "## Data Wrangling\n"
   ]
  },
  {
   "cell_type": "code",
   "execution_count": 9,
   "id": "c69b83a1",
   "metadata": {},
   "outputs": [],
   "source": [
    "import pandas as pd\n",
    "import openai\n",
    "import tiktoken\n",
    "from openai.embeddings_utils import get_embedding, distances_from_embeddings\n",
    "\n",
    "openai.api_base = \"https://openai.vocareum.com/v1\"\n",
    "openai.api_key = \"KEY\""
   ]
  },
  {
   "cell_type": "code",
   "execution_count": 2,
   "id": "0a595980",
   "metadata": {},
   "outputs": [
    {
     "name": "stdout",
     "output_type": "stream",
     "text": [
      "75022\n"
     ]
    },
    {
     "data": {
      "text/html": [
       "<div>\n",
       "<style scoped>\n",
       "    .dataframe tbody tr th:only-of-type {\n",
       "        vertical-align: middle;\n",
       "    }\n",
       "\n",
       "    .dataframe tbody tr th {\n",
       "        vertical-align: top;\n",
       "    }\n",
       "\n",
       "    .dataframe thead th {\n",
       "        text-align: right;\n",
       "    }\n",
       "</style>\n",
       "<table border=\"1\" class=\"dataframe\">\n",
       "  <thead>\n",
       "    <tr style=\"text-align: right;\">\n",
       "      <th></th>\n",
       "      <th>poet_name</th>\n",
       "      <th>poet_era</th>\n",
       "      <th>poem_tags</th>\n",
       "      <th>poem_title</th>\n",
       "      <th>poem_text</th>\n",
       "      <th>poem_count</th>\n",
       "      <th>poem_meter</th>\n",
       "    </tr>\n",
       "  </thead>\n",
       "  <tbody>\n",
       "    <tr>\n",
       "      <th>0</th>\n",
       "      <td>لقيط بن يعمر الإيادي</td>\n",
       "      <td>العصر الجاهلي</td>\n",
       "      <td>قصائد هجاء, عموديه, بحر الوافر,  قافية الدال (د)</td>\n",
       "      <td>سلام في الصحيفة من لقيط</td>\n",
       "      <td>سَلامٌ في الصَحيفَةِ مِن لَقيطٍ\\nإِلى مَن بِال...</td>\n",
       "      <td>عدد الابيات : 4</td>\n",
       "      <td>بحر الوافر</td>\n",
       "    </tr>\n",
       "    <tr>\n",
       "      <th>1</th>\n",
       "      <td>لقيط بن يعمر الإيادي</td>\n",
       "      <td>العصر الجاهلي</td>\n",
       "      <td>قصائد حزينه, عموديه, بحر البسيط,  قافية الألف ...</td>\n",
       "      <td>يا دار عمرة من محتلها الجرعا</td>\n",
       "      <td>يا دارَ عَمرَةَ مِن مُحتَلِّها الجَرَعا\\nهاجَت...</td>\n",
       "      <td>عدد الابيات : 60</td>\n",
       "      <td>بحر البسيط</td>\n",
       "    </tr>\n",
       "    <tr>\n",
       "      <th>2</th>\n",
       "      <td>لقيط بن يعمر الإيادي</td>\n",
       "      <td>العصر الجاهلي</td>\n",
       "      <td>قصائد قصيره, عموديه, بحر الرجز,  قافية الألف (ا)</td>\n",
       "      <td>وخاننا خوان في ارتباعنا</td>\n",
       "      <td>وَخانَنا خَوّانٌ في اِرتِباعِنا\\nفَاِنفَدَّ لِ...</td>\n",
       "      <td>عدد الابيات : 1</td>\n",
       "      <td>بحر الرجز</td>\n",
       "    </tr>\n",
       "    <tr>\n",
       "      <th>3</th>\n",
       "      <td>زبان بن سيار الفزاري</td>\n",
       "      <td>العصر الجاهلي</td>\n",
       "      <td>قصائد قصيره, عموديه, بحر الطويل,  قافية الألف ...</td>\n",
       "      <td>تنح إليكم يا ابن كوز فإننا</td>\n",
       "      <td>تَنَحَّ إِلَيكُم يا اِبنَ كوزٍ فَإِنَّنا\\nوَإِ...</td>\n",
       "      <td>عدد الابيات : 1</td>\n",
       "      <td>بحر الطويل</td>\n",
       "    </tr>\n",
       "    <tr>\n",
       "      <th>4</th>\n",
       "      <td>زبان بن سيار الفزاري</td>\n",
       "      <td>العصر الجاهلي</td>\n",
       "      <td>قصائد قصيره, عموديه, بحر الطويل,  قافية الباء ...</td>\n",
       "      <td>تطارحه الأنساب حتى رددنه</td>\n",
       "      <td>تُطارِحُهُ الأَنسابُ حَتّى رَدَدنَهُ\\nإِلى نَس...</td>\n",
       "      <td>عدد الابيات : 1</td>\n",
       "      <td>بحر الطويل</td>\n",
       "    </tr>\n",
       "  </tbody>\n",
       "</table>\n",
       "</div>"
      ],
      "text/plain": [
       "              poet_name       poet_era  \\\n",
       "0  لقيط بن يعمر الإيادي  العصر الجاهلي   \n",
       "1  لقيط بن يعمر الإيادي  العصر الجاهلي   \n",
       "2  لقيط بن يعمر الإيادي  العصر الجاهلي   \n",
       "3  زبان بن سيار الفزاري  العصر الجاهلي   \n",
       "4  زبان بن سيار الفزاري  العصر الجاهلي   \n",
       "\n",
       "                                           poem_tags  \\\n",
       "0  قصائد هجاء, عموديه, بحر الوافر,  قافية الدال (د)    \n",
       "1  قصائد حزينه, عموديه, بحر البسيط,  قافية الألف ...   \n",
       "2  قصائد قصيره, عموديه, بحر الرجز,  قافية الألف (ا)    \n",
       "3  قصائد قصيره, عموديه, بحر الطويل,  قافية الألف ...   \n",
       "4  قصائد قصيره, عموديه, بحر الطويل,  قافية الباء ...   \n",
       "\n",
       "                     poem_title  \\\n",
       "0       سلام في الصحيفة من لقيط   \n",
       "1  يا دار عمرة من محتلها الجرعا   \n",
       "2       وخاننا خوان في ارتباعنا   \n",
       "3    تنح إليكم يا ابن كوز فإننا   \n",
       "4      تطارحه الأنساب حتى رددنه   \n",
       "\n",
       "                                           poem_text        poem_count  \\\n",
       "0  سَلامٌ في الصَحيفَةِ مِن لَقيطٍ\\nإِلى مَن بِال...   عدد الابيات : 4   \n",
       "1  يا دارَ عَمرَةَ مِن مُحتَلِّها الجَرَعا\\nهاجَت...  عدد الابيات : 60   \n",
       "2  وَخانَنا خَوّانٌ في اِرتِباعِنا\\nفَاِنفَدَّ لِ...   عدد الابيات : 1   \n",
       "3  تَنَحَّ إِلَيكُم يا اِبنَ كوزٍ فَإِنَّنا\\nوَإِ...   عدد الابيات : 1   \n",
       "4  تُطارِحُهُ الأَنسابُ حَتّى رَدَدنَهُ\\nإِلى نَس...   عدد الابيات : 1   \n",
       "\n",
       "    poem_meter  \n",
       "0   بحر الوافر  \n",
       "1   بحر البسيط  \n",
       "2    بحر الرجز  \n",
       "3   بحر الطويل  \n",
       "4   بحر الطويل  "
      ]
     },
     "execution_count": 2,
     "metadata": {},
     "output_type": "execute_result"
    }
   ],
   "source": [
    "data = pd.read_csv(\"Arabic_Poetry_Dataset.csv\")\n",
    "print(len(data))\n",
    "\n",
    "data = data.loc[data[\"poem_tags\"].apply(lambda x: str(x).count(\",\"))==3].copy()\n",
    "\n",
    "data[\"poem_meter\"] = data[\"poem_tags\"].apply(lambda x: x.split(\",\")[2])\n",
    "\n",
    "data.head()"
   ]
  },
  {
   "cell_type": "code",
   "execution_count": 3,
   "id": "ca4d0f1d",
   "metadata": {},
   "outputs": [],
   "source": [
    "# to reduce the number of rows\n",
    "txt = 'المجد'\n",
    "data = data.loc[ data[\"poem_title\"].str.contains(txt)].reset_index(drop=True)"
   ]
  },
  {
   "cell_type": "code",
   "execution_count": 6,
   "id": "acb3a9fd",
   "metadata": {},
   "outputs": [
    {
     "name": "stdout",
     "output_type": "stream",
     "text": [
      "170\n"
     ]
    },
    {
     "data": {
      "text/html": [
       "<div>\n",
       "<style scoped>\n",
       "    .dataframe tbody tr th:only-of-type {\n",
       "        vertical-align: middle;\n",
       "    }\n",
       "\n",
       "    .dataframe tbody tr th {\n",
       "        vertical-align: top;\n",
       "    }\n",
       "\n",
       "    .dataframe thead th {\n",
       "        text-align: right;\n",
       "    }\n",
       "</style>\n",
       "<table border=\"1\" class=\"dataframe\">\n",
       "  <thead>\n",
       "    <tr style=\"text-align: right;\">\n",
       "      <th></th>\n",
       "      <th>text</th>\n",
       "    </tr>\n",
       "  </thead>\n",
       "  <tbody>\n",
       "    <tr>\n",
       "      <th>0</th>\n",
       "      <td>اسم الشاعر: زبان بن سيار الفزاري , العصر: العص...</td>\n",
       "    </tr>\n",
       "    <tr>\n",
       "      <th>1</th>\n",
       "      <td>اسم الشاعر: عبد الله بن الزبعرى , العصر: المخض...</td>\n",
       "    </tr>\n",
       "    <tr>\n",
       "      <th>2</th>\n",
       "      <td>اسم الشاعر: حسان بن ثابت , العصر: المخضرمون , ...</td>\n",
       "    </tr>\n",
       "    <tr>\n",
       "      <th>3</th>\n",
       "      <td>اسم الشاعر: حسان بن ثابت , العصر: المخضرمون , ...</td>\n",
       "    </tr>\n",
       "    <tr>\n",
       "      <th>4</th>\n",
       "      <td>اسم الشاعر: علي بن أبي طالب , العصر: المخضرمون...</td>\n",
       "    </tr>\n",
       "  </tbody>\n",
       "</table>\n",
       "</div>"
      ],
      "text/plain": [
       "                                                text\n",
       "0  اسم الشاعر: زبان بن سيار الفزاري , العصر: العص...\n",
       "1  اسم الشاعر: عبد الله بن الزبعرى , العصر: المخض...\n",
       "2  اسم الشاعر: حسان بن ثابت , العصر: المخضرمون , ...\n",
       "3  اسم الشاعر: حسان بن ثابت , العصر: المخضرمون , ...\n",
       "4  اسم الشاعر: علي بن أبي طالب , العصر: المخضرمون..."
      ]
     },
     "execution_count": 6,
     "metadata": {},
     "output_type": "execute_result"
    }
   ],
   "source": [
    "df = pd.DataFrame(columns = [\"text\"])\n",
    "df[\"text\"] = data.apply(lambda x : \"اسم الشاعر: \" + x[\"poet_name\"] + \" , \" + \"العصر: \" +  x[\"poet_era\"] + \" , \" + \"البحر: \" +  x[\"poem_meter\"] + \" , \" + \"العنوان: \" +  x[\"poem_title\"] , axis=1) # + \" , \" + \"الابيات: \" +  x[\"poem_text\"]\n",
    "print(len(df))\n",
    "df.head()"
   ]
  },
  {
   "cell_type": "code",
   "execution_count": 7,
   "id": "9ba7f570",
   "metadata": {},
   "outputs": [
    {
     "data": {
      "text/html": [
       "<div>\n",
       "<style scoped>\n",
       "    .dataframe tbody tr th:only-of-type {\n",
       "        vertical-align: middle;\n",
       "    }\n",
       "\n",
       "    .dataframe tbody tr th {\n",
       "        vertical-align: top;\n",
       "    }\n",
       "\n",
       "    .dataframe thead th {\n",
       "        text-align: right;\n",
       "    }\n",
       "</style>\n",
       "<table border=\"1\" class=\"dataframe\">\n",
       "  <thead>\n",
       "    <tr style=\"text-align: right;\">\n",
       "      <th></th>\n",
       "      <th>text</th>\n",
       "      <th>embeddings</th>\n",
       "    </tr>\n",
       "  </thead>\n",
       "  <tbody>\n",
       "    <tr>\n",
       "      <th>0</th>\n",
       "      <td>اسم الشاعر: زبان بن سيار الفزاري , العصر: العص...</td>\n",
       "      <td>[-0.006997411604970694, 0.007916332222521305, ...</td>\n",
       "    </tr>\n",
       "    <tr>\n",
       "      <th>1</th>\n",
       "      <td>اسم الشاعر: عبد الله بن الزبعرى , العصر: المخض...</td>\n",
       "      <td>[-0.005346281919628382, -0.0020473382901400328...</td>\n",
       "    </tr>\n",
       "    <tr>\n",
       "      <th>2</th>\n",
       "      <td>اسم الشاعر: حسان بن ثابت , العصر: المخضرمون , ...</td>\n",
       "      <td>[-0.0035146602895110846, 0.0037174930330365896...</td>\n",
       "    </tr>\n",
       "    <tr>\n",
       "      <th>3</th>\n",
       "      <td>اسم الشاعر: حسان بن ثابت , العصر: المخضرمون , ...</td>\n",
       "      <td>[-0.007776329759508371, 7.898877083789557e-05,...</td>\n",
       "    </tr>\n",
       "    <tr>\n",
       "      <th>4</th>\n",
       "      <td>اسم الشاعر: علي بن أبي طالب , العصر: المخضرمون...</td>\n",
       "      <td>[0.00027684596716426313, -0.003262293059378862...</td>\n",
       "    </tr>\n",
       "    <tr>\n",
       "      <th>...</th>\n",
       "      <td>...</td>\n",
       "      <td>...</td>\n",
       "    </tr>\n",
       "    <tr>\n",
       "      <th>165</th>\n",
       "      <td>اسم الشاعر: أبو الحسن السلامي , العصر: العصر ا...</td>\n",
       "      <td>[-0.014789328910410404, -0.005357156042009592,...</td>\n",
       "    </tr>\n",
       "    <tr>\n",
       "      <th>166</th>\n",
       "      <td>اسم الشاعر: ابن نباتة السعدي , العصر: العصر ال...</td>\n",
       "      <td>[-0.014750099740922451, 0.0031649877782911062,...</td>\n",
       "    </tr>\n",
       "    <tr>\n",
       "      <th>167</th>\n",
       "      <td>اسم الشاعر: ابو الحسن السلامي , العصر: العصر ا...</td>\n",
       "      <td>[-0.013343694619834423, -0.004649070557206869,...</td>\n",
       "    </tr>\n",
       "    <tr>\n",
       "      <th>168</th>\n",
       "      <td>اسم الشاعر: أبو بكر الخالدي , العصر: العصر الع...</td>\n",
       "      <td>[-0.009930785745382309, 0.006275240797549486, ...</td>\n",
       "    </tr>\n",
       "    <tr>\n",
       "      <th>169</th>\n",
       "      <td>اسم الشاعر: أبو بكر الخالدي , العصر: العصر الع...</td>\n",
       "      <td>[-0.012621141970157623, -0.002596349222585559,...</td>\n",
       "    </tr>\n",
       "  </tbody>\n",
       "</table>\n",
       "<p>170 rows × 2 columns</p>\n",
       "</div>"
      ],
      "text/plain": [
       "                                                  text  \\\n",
       "0    اسم الشاعر: زبان بن سيار الفزاري , العصر: العص...   \n",
       "1    اسم الشاعر: عبد الله بن الزبعرى , العصر: المخض...   \n",
       "2    اسم الشاعر: حسان بن ثابت , العصر: المخضرمون , ...   \n",
       "3    اسم الشاعر: حسان بن ثابت , العصر: المخضرمون , ...   \n",
       "4    اسم الشاعر: علي بن أبي طالب , العصر: المخضرمون...   \n",
       "..                                                 ...   \n",
       "165  اسم الشاعر: أبو الحسن السلامي , العصر: العصر ا...   \n",
       "166  اسم الشاعر: ابن نباتة السعدي , العصر: العصر ال...   \n",
       "167  اسم الشاعر: ابو الحسن السلامي , العصر: العصر ا...   \n",
       "168  اسم الشاعر: أبو بكر الخالدي , العصر: العصر الع...   \n",
       "169  اسم الشاعر: أبو بكر الخالدي , العصر: العصر الع...   \n",
       "\n",
       "                                            embeddings  \n",
       "0    [-0.006997411604970694, 0.007916332222521305, ...  \n",
       "1    [-0.005346281919628382, -0.0020473382901400328...  \n",
       "2    [-0.0035146602895110846, 0.0037174930330365896...  \n",
       "3    [-0.007776329759508371, 7.898877083789557e-05,...  \n",
       "4    [0.00027684596716426313, -0.003262293059378862...  \n",
       "..                                                 ...  \n",
       "165  [-0.014789328910410404, -0.005357156042009592,...  \n",
       "166  [-0.014750099740922451, 0.0031649877782911062,...  \n",
       "167  [-0.013343694619834423, -0.004649070557206869,...  \n",
       "168  [-0.009930785745382309, 0.006275240797549486, ...  \n",
       "169  [-0.012621141970157623, -0.002596349222585559,...  \n",
       "\n",
       "[170 rows x 2 columns]"
      ]
     },
     "execution_count": 7,
     "metadata": {},
     "output_type": "execute_result"
    }
   ],
   "source": [
    "EMBEDDING_MODEL_NAME = \"text-embedding-ada-002\"\n",
    "batch_size = 100\n",
    "embeddings = []\n",
    "\n",
    "for i in range(0, len(df), batch_size):\n",
    "    # Send text data to OpenAI model to get embeddings\n",
    "    response = openai.Embedding.create(\n",
    "        input=df.iloc[i:i+batch_size][\"text\"].tolist(),\n",
    "        engine=EMBEDDING_MODEL_NAME\n",
    "    )\n",
    "    \n",
    "    # Add embeddings to list\n",
    "    embeddings.extend([data[\"embedding\"] for data in response[\"data\"]])\n",
    "\n",
    "# Add embeddings list to dataframe\n",
    "df[\"embeddings\"] = embeddings\n",
    "df"
   ]
  },
  {
   "cell_type": "markdown",
   "id": "ae769871",
   "metadata": {},
   "source": [
    "## Custom Query Completion"
   ]
  },
  {
   "cell_type": "code",
   "execution_count": 19,
   "id": "eadbfa6e",
   "metadata": {},
   "outputs": [],
   "source": [
    "def get_rows_sorted_by_relevance(question):\n",
    "\n",
    "    question_embeddings = get_embedding(question, engine=EMBEDDING_MODEL_NAME)\n",
    "\n",
    "    df_copy = df.copy()\n",
    "    df_copy[\"distances\"] = distances_from_embeddings(\n",
    "        question_embeddings,\n",
    "        df_copy[\"embeddings\"].values,\n",
    "        distance_metric=\"cosine\"\n",
    "    )\n",
    "\n",
    "    df_copy.sort_values(\"distances\", ascending=True, inplace=True)\n",
    "\n",
    "    return df_copy[\"text\"].values"
   ]
  },
  {
   "cell_type": "code",
   "execution_count": 46,
   "id": "8b6e1f75",
   "metadata": {},
   "outputs": [],
   "source": [
    "tokenizer = tiktoken.get_encoding(\"cl100k_base\")\n",
    "\n",
    "prompt_template = \"\"\"\n",
    "Answer the question based on the context below, and if the question\n",
    "can't be answered based on the context, say \"I don't know\". Then Paraphrase the answer in formal tone and grammatically correct. \n",
    "\n",
    "Context: \n",
    "\n",
    "{}\n",
    "\n",
    "---\n",
    "\n",
    "Question: {}\n",
    "Answer:\"\"\"\n",
    "\n",
    "def create_prompt(question, max_token_count):\n",
    "    current_token_count= len(tokenizer.encode(prompt_template)) + len(tokenizer.encode(question))\n",
    "    \n",
    "    context = []\n",
    "    for text in get_rows_sorted_by_relevance(question):\n",
    "        \n",
    "        current_token_count += len(tokenizer.encode(text))\n",
    "        \n",
    "        if current_token_count <= max_token_count:\n",
    "            context.append(text)\n",
    "        else:\n",
    "            break\n",
    "            \n",
    "    return prompt_template.format(\"\\n\\n###\\n\\n\".join(context), question)\n",
    "    "
   ]
  },
  {
   "cell_type": "code",
   "execution_count": 12,
   "id": "c403f543",
   "metadata": {},
   "outputs": [],
   "source": [
    "def answer_question(question, model, max_tokens, max_prompt_tokens=1800):\n",
    "\n",
    "    prompt = create_prompt(question, max_prompt_tokens)\n",
    "    \n",
    "    try:\n",
    "        response = openai.Completion.create(\n",
    "            prompt=prompt,\n",
    "            model=model,\n",
    "            max_tokens=max_tokens\n",
    "        )\n",
    "        return response[\"choices\"][0][\"text\"].strip()\n",
    "    \n",
    "    except Exception as e:\n",
    "        print(e)\n",
    "        return \"\""
   ]
  },
  {
   "cell_type": "markdown",
   "id": "1783f146",
   "metadata": {},
   "source": [
    "## Custom Performance Demonstration"
   ]
  },
  {
   "cell_type": "code",
   "execution_count": 13,
   "id": "bff73580",
   "metadata": {},
   "outputs": [],
   "source": [
    "COMPLETION_MODEL_NAME = \"gpt-3.5-turbo-instruct\"\n",
    "MAX_TOKENS = 200"
   ]
  },
  {
   "cell_type": "markdown",
   "id": "4f11fdc0",
   "metadata": {},
   "source": [
    "### Question 1"
   ]
  },
  {
   "cell_type": "code",
   "execution_count": 25,
   "id": "92cd9d3e",
   "metadata": {},
   "outputs": [],
   "source": [
    "QUESTION_1 = \"\"\"\n",
    "ما هو بحر قصيدة ألا في سبيل المجد ما أنا فاعل... ؟ ومن الشاعر ؟ وفي أي عصر كتبت ؟\n",
    "\"\"\""
   ]
  },
  {
   "cell_type": "code",
   "execution_count": 26,
   "id": "4901c850",
   "metadata": {},
   "outputs": [
    {
     "name": "stdout",
     "output_type": "stream",
     "text": [
      "بحر قصيدة \"ألا في سبيل المجد ما أنا فاعل\" هو البحر السريع (albaḥr al-sarīʿ) المنزلق (al-manzilq) وينتمي إلى الفرع التجميعي للأبحاث الصغيرة.\n",
      "\n",
      "الشاعر الذي ألف هذه القصيدة هو أبو الطيب أحمد بن حزام الإسكندري، المعروف باسم ابن الفارض. ولد في القرن الثالث عشر الميلادي في مدينة إسكندرية في مصر وتوفي ح\n"
     ]
    }
   ],
   "source": [
    "response = openai.Completion.create(\n",
    "    prompt=QUESTION_1,\n",
    "    model=COMPLETION_MODEL_NAME,\n",
    "    max_tokens=MAX_TOKENS)\n",
    "\n",
    "print(response[\"choices\"][0][\"text\"].strip())"
   ]
  },
  {
   "cell_type": "markdown",
   "id": "e99147bf",
   "metadata": {},
   "source": [
    "This answer is incorrect!"
   ]
  },
  {
   "cell_type": "code",
   "execution_count": 47,
   "id": "bd7a093b",
   "metadata": {},
   "outputs": [
    {
     "data": {
      "text/plain": [
       "'بحر قصيدة \"ألا في سبيل المجد ما أنا فاعل\" هو بحر الطويل وكتبها الشاعر أبو العلاء المعري في العصر العباسي.'"
      ]
     },
     "execution_count": 47,
     "metadata": {},
     "output_type": "execute_result"
    }
   ],
   "source": [
    "answer_question(QUESTION_1, model=COMPLETION_MODEL_NAME, max_tokens=MAX_TOKENS)"
   ]
  },
  {
   "cell_type": "markdown",
   "id": "b2d3b1d9",
   "metadata": {},
   "source": [
    "This is the correct answer!"
   ]
  },
  {
   "cell_type": "markdown",
   "id": "6e86e37c",
   "metadata": {},
   "source": [
    "### Question 2"
   ]
  },
  {
   "cell_type": "code",
   "execution_count": 49,
   "id": "6f646989",
   "metadata": {},
   "outputs": [],
   "source": [
    "QUESTION_2 = \"\"\"\n",
    "قصيدة لا يمتطي المجد من لم يركب الخطرا، من الشاعر؟ وفي أي عصر كتبت ؟ وعلى أي بحر كتبت هذه القصيدة ؟\n",
    "\"\"\""
   ]
  },
  {
   "cell_type": "code",
   "execution_count": 52,
   "id": "ecb8210c",
   "metadata": {},
   "outputs": [],
   "source": [
    "MAX_TOKENS = 400"
   ]
  },
  {
   "cell_type": "code",
   "execution_count": 50,
   "id": "11c07a54",
   "metadata": {},
   "outputs": [
    {
     "name": "stdout",
     "output_type": "stream",
     "text": [
      "لا يمتطي المجد من لم يركب الخطرا،\n",
      "ما أخذ النيل من الماء إذ لا يسرا\n",
      "للأصل تقبلوا فأنتم من أنشأنا\n",
      "فيالصدر جرت صلاة الخطى بسرا\n",
      "إذا عرفت نفسك لم تحيد يوما\n",
      "فاصلط الأمر هوى المسير واخترى\n",
      " \n",
      "هذه القصيدة من تأليف الشاعر العربي الجاهلي العالمة الغابري، وتعتبر من القصائد الشعرية العربية القدي\n"
     ]
    }
   ],
   "source": [
    "response = openai.Completion.create(\n",
    "    prompt=QUESTION_2,\n",
    "    model=COMPLETION_MODEL_NAME,\n",
    "    max_tokens=MAX_TOKENS)\n",
    "\n",
    "print(response[\"choices\"][0][\"text\"].strip())"
   ]
  },
  {
   "cell_type": "markdown",
   "id": "9064a589",
   "metadata": {},
   "source": [
    "This answer is incorrect ! \n",
    "\n",
    "لا يَمتَطي المَجدَ مَن لَم يَركَبِ الخَطَرا ... وَلا يَنالُ العُلا مَن قَدَّمَ الحَذَرا\n",
    "\n",
    "وَمَن أَرادَ العُلا عَفواً بِلا تَعَبٍ ... قَضى وَلَم يَقضِ مِن إِدراكِها وَطَرا"
   ]
  },
  {
   "cell_type": "code",
   "execution_count": 53,
   "id": "6c5181d1",
   "metadata": {},
   "outputs": [
    {
     "data": {
      "text/plain": [
       "'لا تعرف قصيدة الشاعر الحلي بإسمي صفي الدين الحلي و هو من العصر المملوكي، و كتب على بحر البسيط و تحمل العنوان لا يمتطي المجد من لم يركب الخطرا.'"
      ]
     },
     "execution_count": 53,
     "metadata": {},
     "output_type": "execute_result"
    }
   ],
   "source": [
    "answer_question(QUESTION_2, model=COMPLETION_MODEL_NAME, max_tokens=MAX_TOKENS)"
   ]
  },
  {
   "cell_type": "markdown",
   "id": "4e0a6945",
   "metadata": {},
   "source": [
    "This is the correct answer !"
   ]
  }
 ],
 "metadata": {
  "kernelspec": {
   "display_name": "Python 3 (ipykernel)",
   "language": "python",
   "name": "python3"
  },
  "language_info": {
   "codemirror_mode": {
    "name": "ipython",
    "version": 3
   },
   "file_extension": ".py",
   "mimetype": "text/x-python",
   "name": "python",
   "nbconvert_exporter": "python",
   "pygments_lexer": "ipython3",
   "version": "3.9.18"
  }
 },
 "nbformat": 4,
 "nbformat_minor": 5
}
